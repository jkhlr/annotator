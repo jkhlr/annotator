{
 "cells": [
  {
   "cell_type": "code",
   "execution_count": 5,
   "metadata": {
    "pycharm": {
     "is_executing": false
    }
   },
   "outputs": [],
   "source": [
    "import requests\n",
    "\n",
    "document_url = \"https://box.jakobkoehler.de/box_3c8609f018476a8a41d6/documents/?limit=0\"\n",
    "annotation_url = \"https://box.jakobkoehler.de/box_3c8609f018476a8a41d6/annotations/?sort=_createdOn&limit=0\"\n",
    "\n",
    "def get(url):\n",
    "    return requests.get(url, auth=('jsonbox', 'i2pe2019')).json()\n",
    "\n",
    "documents_data = get(document_url)\n",
    "annotations_data = get(annotation_url)"
   ]
  },
  {
   "cell_type": "code",
   "execution_count": 6,
   "metadata": {
    "pycharm": {
     "is_executing": false
    }
   },
   "outputs": [],
   "source": [
    "from collections import defaultdict\n",
    "\n",
    "annotation_map = defaultdict(list)\n",
    "for annotation in annotations_data:\n",
    "    annotation_map[annotation['documentId']].append(annotation)\n",
    "\n",
    "documents = [\n",
    "    {\n",
    "        'text': d['text'], \n",
    "        'annotations': [\n",
    "            a['annotations'] \n",
    "            for a in annotation_map[d['_id']]\n",
    "        ]\n",
    "    } \n",
    "    for d in documents_data\n",
    "]"
   ]
  },
  {
   "cell_type": "code",
   "execution_count": 7,
   "metadata": {
    "pycharm": {
     "is_executing": false
    }
   },
   "outputs": [],
   "source": [
    "def get_annotation_vector(text, annotations):\n",
    "    annotation_vector = [0] * len(text.split(' '))\n",
    "    for annotation in annotations:\n",
    "        if annotation['start'] == 0:\n",
    "            start = 0\n",
    "        else:\n",
    "            start = len(text[:annotation['start']].strip().split(' '))\n",
    "        num_words = len(annotation['text'].split(' '))\n",
    "        for i in range(num_words):\n",
    "            annotation_vector[start+i] = 1\n",
    "    return annotation_vector"
   ]
  },
  {
   "cell_type": "code",
   "execution_count": 8,
   "metadata": {
    "pycharm": {
     "is_executing": false
    }
   },
   "outputs": [],
   "source": [
    "fully_annotated_documents = [\n",
    "    document for document in documents\n",
    "    if len(document['annotations']) == 2\n",
    "]"
   ]
  },
  {
   "cell_type": "code",
   "execution_count": 9,
   "metadata": {
    "pycharm": {
     "is_executing": false
    }
   },
   "outputs": [],
   "source": [
    "documents_train = [{\n",
    "    'text': document['text'].split(' '),\n",
    "    'H0': get_annotation_vector(document['text'], document['annotations'][0]),\n",
    "    'H1': get_annotation_vector(document['text'], document['annotations'][1])\n",
    "} for document in fully_annotated_documents]\n",
    "\n",
    "for document in documents_train:\n",
    "    document['H1'] = [\n",
    "        int(bool(h0 + h1))\n",
    "        for h0, h1 in zip(document['H0'], document['H1'])\n",
    "    ]"
   ]
  },
  {
   "cell_type": "code",
   "execution_count": 10,
   "metadata": {
    "pycharm": {
     "name": "#%%\n",
     "is_executing": false
    }
   },
   "outputs": [],
   "source": [
    "import json\n",
    "with open(f'documents_{len(documents_train)}_annotated.json', 'w') as f:\n",
    "    json.dump(documents_train, f)"
   ]
  },
  {
   "cell_type": "code",
   "execution_count": null,
   "outputs": [],
   "source": [
    "\n"
   ],
   "metadata": {
    "collapsed": false,
    "pycharm": {
     "name": "#%%\n"
    }
   }
  }
 ],
 "metadata": {
  "kernelspec": {
   "display_name": "Python 3",
   "language": "python",
   "name": "python3"
  },
  "language_info": {
   "codemirror_mode": {
    "name": "ipython",
    "version": 3
   },
   "file_extension": ".py",
   "mimetype": "text/x-python",
   "name": "python",
   "nbconvert_exporter": "python",
   "pygments_lexer": "ipython3",
   "version": "3.7.3"
  },
  "pycharm": {
   "stem_cell": {
    "cell_type": "raw",
    "source": [],
    "metadata": {
     "collapsed": false
    }
   }
  }
 },
 "nbformat": 4,
 "nbformat_minor": 2
}